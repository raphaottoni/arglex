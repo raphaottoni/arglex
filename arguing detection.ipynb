{
 "cells": [
  {
   "cell_type": "code",
   "execution_count": 1,
   "metadata": {
    "collapsed": true
   },
   "outputs": [],
   "source": [
    "from arglex import Classifier\n",
    "\n"
   ]
  },
  {
   "cell_type": "code",
   "execution_count": 2,
   "metadata": {
    "collapsed": true
   },
   "outputs": [],
   "source": [
    "# Inicializa o arglex\n",
    "arglex = Classifier()\n",
    "\n",
    "\n"
   ]
  },
  {
   "cell_type": "code",
   "execution_count": 3,
   "metadata": {
    "collapsed": false
   },
   "outputs": [
    {
     "name": "stdout",
     "output_type": "stream",
     "text": [
      "['Assessments', 'Authority', 'Causation', 'Conditionals', 'Contrast', 'Difficulty', 'Doubt', 'Emphasis', 'Generalization', 'Inconsistency', 'Inyourshoes', 'Necessity', 'Possibility', 'Priority', 'Rhetoricalquestion', 'Structure', 'Wants']\n"
     ]
    }
   ],
   "source": [
    "# text example\n",
    "\n",
    "# show categories names\n",
    "print arglex.list_categories_names()\n",
    "\n"
   ]
  },
  {
   "cell_type": "code",
   "execution_count": 4,
   "metadata": {
    "collapsed": false
   },
   "outputs": [
    {
     "name": "stdout",
     "output_type": "stream",
     "text": [
      "[0.0, 0.0, 0.33333, 0.0, 0.33333, 0.0, 0.0, 0.33333, 0.0, 0.0, 0.0, 0.0, 0.0, 0.0, 0.0, 0.0, 0.0]\n",
      "[0.0, 0.0, 0.0, 0.33333, 0.0, 0.0, 0.0, 0.0, 0.0, 0.0, 0.0, 0.33333, 0.0, 0.33333, 0.0, 0.0, 0.0]\n"
     ]
    }
   ],
   "source": [
    "# show results a couple of results\n",
    "print arglex.analyse(\"I say pretended because well, when you really think about it hating takes a lot of bitterness and resentment.\")\n",
    "print arglex.analyse(\"It's pretty essential if most of your forums are post moderated, otherwise there'd be lots of double posting and confused people wondering where their posts.\")"
   ]
  },
  {
   "cell_type": "code",
   "execution_count": 25,
   "metadata": {
    "collapsed": false
   },
   "outputs": [
    {
     "name": "stdout",
     "output_type": "stream",
     "text": [
      "[1.0, 0.0, 0.0, 0.0, 0.0, 0.0, 0.0, 0.0, 0.0, 0.0, 0.0, 0.0, 0.0, 0.0, 0.0, 0.0, 0.0]\n"
     ]
    }
   ],
   "source": [
    "print arglex.analyse(\"it seems to me that compared to the previous version, this is bad organization\")"
   ]
  },
  {
   "cell_type": "code",
   "execution_count": null,
   "metadata": {
    "collapsed": true
   },
   "outputs": [],
   "source": []
  }
 ],
 "metadata": {
  "kernelspec": {
   "display_name": "Python 2",
   "language": "python",
   "name": "python2"
  },
  "language_info": {
   "codemirror_mode": {
    "name": "ipython",
    "version": 2
   },
   "file_extension": ".py",
   "mimetype": "text/x-python",
   "name": "python",
   "nbconvert_exporter": "python",
   "pygments_lexer": "ipython2",
   "version": "2.7.13"
  }
 },
 "nbformat": 4,
 "nbformat_minor": 2
}
